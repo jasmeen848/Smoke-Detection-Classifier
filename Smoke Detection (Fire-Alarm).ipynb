{
 "cells": [
  {
   "cell_type": "code",
   "execution_count": 50,
   "id": "defb627c",
   "metadata": {},
   "outputs": [],
   "source": [
    "import pandas as pd\n",
    "import numpy as np\n",
    "import seaborn as sns\n",
    "from sklearn.metrics import accuracy_score\n",
    "import matplotlib.pyplot as plt\n",
    "from sklearn.preprocessing import StandardScaler\n",
    "from sklearn.linear_model import LogisticRegression\n",
    "from sklearn.model_selection import train_test_split\n",
    "import scipy.stats as stats\n",
    "from sklearn.neighbors import KNeighborsClassifier\n",
    "from xgboost import XGBClassifier"
   ]
  },
  {
   "cell_type": "code",
   "execution_count": 2,
   "id": "91cf36f3",
   "metadata": {},
   "outputs": [
    {
     "name": "stdout",
     "output_type": "stream",
     "text": [
      "<class 'pandas.core.frame.DataFrame'>\n",
      "Int64Index: 62630 entries, 0 to 62629\n",
      "Data columns (total 15 columns):\n",
      " #   Column          Non-Null Count  Dtype  \n",
      "---  ------          --------------  -----  \n",
      " 0   UTC             62630 non-null  int64  \n",
      " 1   Temperature[C]  62630 non-null  float64\n",
      " 2   Humidity[%]     62630 non-null  float64\n",
      " 3   TVOC[ppb]       62630 non-null  int64  \n",
      " 4   eCO2[ppm]       62630 non-null  int64  \n",
      " 5   Raw H2          62630 non-null  int64  \n",
      " 6   Raw Ethanol     62630 non-null  int64  \n",
      " 7   Pressure[hPa]   62630 non-null  float64\n",
      " 8   PM1.0           62630 non-null  float64\n",
      " 9   PM2.5           62630 non-null  float64\n",
      " 10  NC0.5           62630 non-null  float64\n",
      " 11  NC1.0           62630 non-null  float64\n",
      " 12  NC2.5           62630 non-null  float64\n",
      " 13  CNT             62630 non-null  int64  \n",
      " 14  Fire Alarm      62630 non-null  int64  \n",
      "dtypes: float64(8), int64(7)\n",
      "memory usage: 7.6 MB\n"
     ]
    }
   ],
   "source": [
    "smoke_df = pd.read_csv('smoke_detection_iot.csv',index_col=0)\n",
    "smoke_df.info()"
   ]
  },
  {
   "cell_type": "code",
   "execution_count": 3,
   "id": "94bb6f9c",
   "metadata": {},
   "outputs": [
    {
     "data": {
      "text/plain": [
       "<AxesSubplot:>"
      ]
     },
     "execution_count": 3,
     "metadata": {},
     "output_type": "execute_result"
    },
    {
     "data": {
      "image/png": "[encoded data removed]",
      "text/plain": [
       "<Figure size 432x288 with 1 Axes>"
      ]
     },
     "metadata": {
      "needs_background": "light"
     },
     "output_type": "display_data"
    }
   ],
   "source": [
    "smoke_df['Temperature[C]'].hist()"
   ]
  },
  {
   "cell_type": "code",
   "execution_count": 4,
   "id": "0f46c68d",
   "metadata": {},
   "outputs": [
    {
     "data": {
      "text/html": [
       "<div>\n",
       "<style scoped>\n",
       "    .dataframe tbody tr th:only-of-type {\n",
       "        vertical-align: middle;\n",
       "    }\n",
       "\n",
       "    .dataframe tbody tr th {\n",
       "        vertical-align: top;\n",
       "    }\n",
       "\n",
       "    .dataframe thead th {\n",
       "        text-align: right;\n",
       "    }\n",
       "</style>\n",
       "<table border=\"1\" class=\"dataframe\">\n",
       "  <thead>\n",
       "    <tr style=\"text-align: right;\">\n",
       "      <th></th>\n",
       "      <th>UTC</th>\n",
       "      <th>Temperature[C]</th>\n",
       "      <th>Humidity[%]</th>\n",
       "      <th>TVOC[ppb]</th>\n",
       "      <th>eCO2[ppm]</th>\n",
       "      <th>Raw H2</th>\n",
       "      <th>Raw Ethanol</th>\n",
       "      <th>Pressure[hPa]</th>\n",
       "      <th>PM1.0</th>\n",
       "      <th>PM2.5</th>\n",
       "      <th>NC0.5</th>\n",
       "      <th>NC1.0</th>\n",
       "      <th>NC2.5</th>\n",
       "      <th>CNT</th>\n",
       "    </tr>\n",
       "  </thead>\n",
       "  <tbody>\n",
       "    <tr>\n",
       "      <th>0</th>\n",
       "      <td>1654733331</td>\n",
       "      <td>20.000</td>\n",
       "      <td>57.36</td>\n",
       "      <td>0</td>\n",
       "      <td>400</td>\n",
       "      <td>12306</td>\n",
       "      <td>18520</td>\n",
       "      <td>939.735</td>\n",
       "      <td>0.00</td>\n",
       "      <td>0.00</td>\n",
       "      <td>0.00</td>\n",
       "      <td>0.000</td>\n",
       "      <td>0.000</td>\n",
       "      <td>0</td>\n",
       "    </tr>\n",
       "    <tr>\n",
       "      <th>1</th>\n",
       "      <td>1654733332</td>\n",
       "      <td>20.015</td>\n",
       "      <td>56.67</td>\n",
       "      <td>0</td>\n",
       "      <td>400</td>\n",
       "      <td>12345</td>\n",
       "      <td>18651</td>\n",
       "      <td>939.744</td>\n",
       "      <td>0.00</td>\n",
       "      <td>0.00</td>\n",
       "      <td>0.00</td>\n",
       "      <td>0.000</td>\n",
       "      <td>0.000</td>\n",
       "      <td>1</td>\n",
       "    </tr>\n",
       "    <tr>\n",
       "      <th>2</th>\n",
       "      <td>1654733333</td>\n",
       "      <td>20.029</td>\n",
       "      <td>55.96</td>\n",
       "      <td>0</td>\n",
       "      <td>400</td>\n",
       "      <td>12374</td>\n",
       "      <td>18764</td>\n",
       "      <td>939.738</td>\n",
       "      <td>0.00</td>\n",
       "      <td>0.00</td>\n",
       "      <td>0.00</td>\n",
       "      <td>0.000</td>\n",
       "      <td>0.000</td>\n",
       "      <td>2</td>\n",
       "    </tr>\n",
       "    <tr>\n",
       "      <th>3</th>\n",
       "      <td>1654733334</td>\n",
       "      <td>20.044</td>\n",
       "      <td>55.28</td>\n",
       "      <td>0</td>\n",
       "      <td>400</td>\n",
       "      <td>12390</td>\n",
       "      <td>18849</td>\n",
       "      <td>939.736</td>\n",
       "      <td>0.00</td>\n",
       "      <td>0.00</td>\n",
       "      <td>0.00</td>\n",
       "      <td>0.000</td>\n",
       "      <td>0.000</td>\n",
       "      <td>3</td>\n",
       "    </tr>\n",
       "    <tr>\n",
       "      <th>4</th>\n",
       "      <td>1654733335</td>\n",
       "      <td>20.059</td>\n",
       "      <td>54.69</td>\n",
       "      <td>0</td>\n",
       "      <td>400</td>\n",
       "      <td>12403</td>\n",
       "      <td>18921</td>\n",
       "      <td>939.744</td>\n",
       "      <td>0.00</td>\n",
       "      <td>0.00</td>\n",
       "      <td>0.00</td>\n",
       "      <td>0.000</td>\n",
       "      <td>0.000</td>\n",
       "      <td>4</td>\n",
       "    </tr>\n",
       "    <tr>\n",
       "      <th>...</th>\n",
       "      <td>...</td>\n",
       "      <td>...</td>\n",
       "      <td>...</td>\n",
       "      <td>...</td>\n",
       "      <td>...</td>\n",
       "      <td>...</td>\n",
       "      <td>...</td>\n",
       "      <td>...</td>\n",
       "      <td>...</td>\n",
       "      <td>...</td>\n",
       "      <td>...</td>\n",
       "      <td>...</td>\n",
       "      <td>...</td>\n",
       "      <td>...</td>\n",
       "    </tr>\n",
       "    <tr>\n",
       "      <th>62625</th>\n",
       "      <td>1655130047</td>\n",
       "      <td>18.438</td>\n",
       "      <td>15.79</td>\n",
       "      <td>625</td>\n",
       "      <td>400</td>\n",
       "      <td>13723</td>\n",
       "      <td>20569</td>\n",
       "      <td>936.670</td>\n",
       "      <td>0.63</td>\n",
       "      <td>0.65</td>\n",
       "      <td>4.32</td>\n",
       "      <td>0.673</td>\n",
       "      <td>0.015</td>\n",
       "      <td>5739</td>\n",
       "    </tr>\n",
       "    <tr>\n",
       "      <th>62626</th>\n",
       "      <td>1655130048</td>\n",
       "      <td>18.653</td>\n",
       "      <td>15.87</td>\n",
       "      <td>612</td>\n",
       "      <td>400</td>\n",
       "      <td>13731</td>\n",
       "      <td>20588</td>\n",
       "      <td>936.678</td>\n",
       "      <td>0.61</td>\n",
       "      <td>0.63</td>\n",
       "      <td>4.18</td>\n",
       "      <td>0.652</td>\n",
       "      <td>0.015</td>\n",
       "      <td>5740</td>\n",
       "    </tr>\n",
       "    <tr>\n",
       "      <th>62627</th>\n",
       "      <td>1655130049</td>\n",
       "      <td>18.867</td>\n",
       "      <td>15.84</td>\n",
       "      <td>627</td>\n",
       "      <td>400</td>\n",
       "      <td>13725</td>\n",
       "      <td>20582</td>\n",
       "      <td>936.687</td>\n",
       "      <td>0.57</td>\n",
       "      <td>0.60</td>\n",
       "      <td>3.95</td>\n",
       "      <td>0.617</td>\n",
       "      <td>0.014</td>\n",
       "      <td>5741</td>\n",
       "    </tr>\n",
       "    <tr>\n",
       "      <th>62628</th>\n",
       "      <td>1655130050</td>\n",
       "      <td>19.083</td>\n",
       "      <td>16.04</td>\n",
       "      <td>638</td>\n",
       "      <td>400</td>\n",
       "      <td>13712</td>\n",
       "      <td>20566</td>\n",
       "      <td>936.680</td>\n",
       "      <td>0.57</td>\n",
       "      <td>0.59</td>\n",
       "      <td>3.92</td>\n",
       "      <td>0.611</td>\n",
       "      <td>0.014</td>\n",
       "      <td>5742</td>\n",
       "    </tr>\n",
       "    <tr>\n",
       "      <th>62629</th>\n",
       "      <td>1655130051</td>\n",
       "      <td>19.299</td>\n",
       "      <td>16.52</td>\n",
       "      <td>643</td>\n",
       "      <td>400</td>\n",
       "      <td>13696</td>\n",
       "      <td>20543</td>\n",
       "      <td>936.676</td>\n",
       "      <td>0.57</td>\n",
       "      <td>0.59</td>\n",
       "      <td>3.90</td>\n",
       "      <td>0.607</td>\n",
       "      <td>0.014</td>\n",
       "      <td>5743</td>\n",
       "    </tr>\n",
       "  </tbody>\n",
       "</table>\n",
       "<p>62630 rows × 14 columns</p>\n",
       "</div>"
      ],
      "text/plain": [
       "              UTC  Temperature[C]  Humidity[%]  TVOC[ppb]  eCO2[ppm]  Raw H2  \\\n",
       "0      1654733331          20.000        57.36          0        400   12306   \n",
       "1      1654733332          20.015        56.67          0        400   12345   \n",
       "2      1654733333          20.029        55.96          0        400   12374   \n",
       "3      1654733334          20.044        55.28          0        400   12390   \n",
       "4      1654733335          20.059        54.69          0        400   12403   \n",
       "...           ...             ...          ...        ...        ...     ...   \n",
       "62625  1655130047          18.438        15.79        625        400   13723   \n",
       "62626  1655130048          18.653        15.87        612        400   13731   \n",
       "62627  1655130049          18.867        15.84        627        400   13725   \n",
       "62628  1655130050          19.083        16.04        638        400   13712   \n",
       "62629  1655130051          19.299        16.52        643        400   13696   \n",
       "\n",
       "       Raw Ethanol  Pressure[hPa]  PM1.0  PM2.5  NC0.5  NC1.0  NC2.5   CNT  \n",
       "0            18520        939.735   0.00   0.00   0.00  0.000  0.000     0  \n",
       "1            18651        939.744   0.00   0.00   0.00  0.000  0.000     1  \n",
       "2            18764        939.738   0.00   0.00   0.00  0.000  0.000     2  \n",
       "3            18849        939.736   0.00   0.00   0.00  0.000  0.000     3  \n",
       "4            18921        939.744   0.00   0.00   0.00  0.000  0.000     4  \n",
       "...            ...            ...    ...    ...    ...    ...    ...   ...  \n",
       "62625        20569        936.670   0.63   0.65   4.32  0.673  0.015  5739  \n",
       "62626        20588        936.678   0.61   0.63   4.18  0.652  0.015  5740  \n",
       "62627        20582        936.687   0.57   0.60   3.95  0.617  0.014  5741  \n",
       "62628        20566        936.680   0.57   0.59   3.92  0.611  0.014  5742  \n",
       "62629        20543        936.676   0.57   0.59   3.90  0.607  0.014  5743  \n",
       "\n",
       "[62630 rows x 14 columns]"
      ]
     },
     "execution_count": 4,
     "metadata": {},
     "output_type": "execute_result"
    }
   ],
   "source": [
    "selected_columns = smoke_df.iloc[:, 0:14]\n",
    "\n",
    "X = selected_columns.copy()\n",
    "X"
   ]
  },
  {
   "cell_type": "code",
   "execution_count": 5,
   "id": "b6884f9f",
   "metadata": {},
   "outputs": [
    {
     "data": {
      "text/plain": [
       "array([[-0.53394841,  0.28062169,  0.99494707, ..., -0.09192422,\n",
       "        -0.07388861, -1.38347572],\n",
       "       [-0.53393932,  0.2816663 ,  0.91711549, ..., -0.09192422,\n",
       "        -0.07388861, -1.38334411],\n",
       "       [-0.53393022,  0.28264127,  0.83702792, ..., -0.09192422,\n",
       "        -0.07388861, -1.38321249],\n",
       "       ...,\n",
       "       [ 3.07252608,  0.20171901, -3.68848353, ..., -0.09164563,\n",
       "        -0.07387569, -0.62786328],\n",
       "       [ 3.07253518,  0.21676136, -3.66592365, ..., -0.09164834,\n",
       "        -0.07387569, -0.62773167],\n",
       "       [ 3.07254427,  0.23180371, -3.61177995, ..., -0.09165014,\n",
       "        -0.07387569, -0.62760005]])"
      ]
     },
     "execution_count": 5,
     "metadata": {},
     "output_type": "execute_result"
    }
   ],
   "source": [
    "X = StandardScaler().fit_transform(X)\n",
    "X"
   ]
  },
  {
   "cell_type": "code",
   "execution_count": 35,
   "id": "6141b45d",
   "metadata": {},
   "outputs": [
    {
     "data": {
      "text/plain": [
       "array([0, 0, 0, ..., 0, 0, 0])"
      ]
     },
     "execution_count": 35,
     "metadata": {},
     "output_type": "execute_result"
    }
   ],
   "source": [
    "y = np.asanyarray(smoke_df['Fire Alarm'])\n",
    "y"
   ]
  },
  {
   "cell_type": "code",
   "execution_count": 36,
   "id": "1be52661",
   "metadata": {},
   "outputs": [],
   "source": [
    "# X_train, X_test, y_train, y_test= train_test_split(X,y,test_size=0.30, random_state=5)\n",
    "X_train, X_test, y_train, y_test = train_test_split(X, y,\n",
    "    test_size=0.2, shuffle = True, random_state = 8)\n",
    "\n",
    "# Use the same function above for the validation set\n",
    "X_train, X_val, y_train, y_val = train_test_split(X_train, y_train, \n",
    "    test_size=0.25, random_state= 8) # 0.25 x 0.8 = 0.2\n",
    "\n"
   ]
  },
  {
   "cell_type": "code",
   "execution_count": 69,
   "id": "27ec33d1",
   "metadata": {},
   "outputs": [
    {
     "name": "stdout",
     "output_type": "stream",
     "text": [
      "0.9996806642184257\n"
     ]
    }
   ],
   "source": [
    "model = XGBClassifier(learning_rate = 0.01).fit(X_train, y_train)\n",
    "y_hat = model.predict(X_val)\n",
    "print(accuracy_score(y_val,y_hat))\n"
   ]
  },
  {
   "cell_type": "code",
   "execution_count": 70,
   "id": "46f6575f",
   "metadata": {},
   "outputs": [
    {
     "data": {
      "text/plain": [
       "0.9994411623822449"
      ]
     },
     "execution_count": 70,
     "metadata": {},
     "output_type": "execute_result"
    }
   ],
   "source": [
    "y_hat = model.predict(X_test)\n",
    "accur = accuracy_score(y_pred=y_hat, y_true=y_test)\n",
    "accur"
   ]
  },
  {
   "cell_type": "code",
   "execution_count": 71,
   "id": "0268fc6f",
   "metadata": {},
   "outputs": [],
   "source": [
    "from sklearn.metrics import jaccard_score\n",
    "from sklearn.metrics import f1_score\n"
   ]
  },
  {
   "cell_type": "code",
   "execution_count": 72,
   "id": "7b008063",
   "metadata": {},
   "outputs": [
    {
     "name": "stdout",
     "output_type": "stream",
     "text": [
      "0.9992158619917105\n"
     ]
    }
   ],
   "source": [
    "print(jaccard_score(y_pred=y_hat, y_true = y_test))"
   ]
  },
  {
   "cell_type": "code",
   "execution_count": 73,
   "id": "3a6f4eca",
   "metadata": {},
   "outputs": [
    {
     "data": {
      "text/plain": [
       "0.9993181148405132"
      ]
     },
     "execution_count": 73,
     "metadata": {},
     "output_type": "execute_result"
    }
   ],
   "source": [
    "f1_score(y_test,y_hat,average='macro')"
   ]
  },
  {
   "cell_type": "code",
   "execution_count": null,
   "id": "7a4b9ad0",
   "metadata": {},
   "outputs": [],
   "source": []
  }
 ],
 "metadata": {
  "kernelspec": {
   "display_name": "Python 3 (ipykernel)",
   "language": "python",
   "name": "python3"
  },
  "language_info": {
   "codemirror_mode": {
    "name": "ipython",
    "version": 3
   },
   "file_extension": ".py",
   "mimetype": "text/x-python",
   "name": "python",
   "nbconvert_exporter": "python",
   "pygments_lexer": "ipython3",
   "version": "3.8.9"
  }
 },
 "nbformat": 4,
 "nbformat_minor": 5
}
